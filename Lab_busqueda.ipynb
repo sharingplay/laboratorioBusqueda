{
  "nbformat": 4,
  "nbformat_minor": 0,
  "metadata": {
    "colab": {
      "provenance": [],
      "include_colab_link": true
    },
    "kernelspec": {
      "name": "python3",
      "display_name": "Python 3"
    },
    "language_info": {
      "name": "python"
    }
  },
  "cells": [
    {
      "cell_type": "markdown",
      "metadata": {
        "id": "view-in-github",
        "colab_type": "text"
      },
      "source": [
        "<a href=\"https://colab.research.google.com/github/sharingplay/laboratorioBusqueda/blob/profundidad/Lab_busqueda.ipynb\" target=\"_parent\"><img src=\"https://colab.research.google.com/assets/colab-badge.svg\" alt=\"Open In Colab\"/></a>"
      ]
    },
    {
      "cell_type": "markdown",
      "source": [
        "A. Formule la tarea como un problema de búsqueda, definiendo el espacio\n",
        "de estados, en el estado inicial, la prueba de objetivo, el conjunto de\n",
        "acciones posibles y el costo de la ruta.\n",
        "\n",
        "\n",
        "Se entiende el problema como la busqueda de una ruta que una el círculo en E9 con el triángulo que hay en H1. Para esto tenemos que el espacio de estados es el tablero del laberinto desde la coordenada A1 hasta J9, el estado inicial es donde empezamos la búsqueda, en este caso el E9 donde se encuentra el círculo. Finalmente tenemos que la prueba del objetivo es llegar a la casilla H1 y el conjunto de estados posibles son todos las casillas blancas que aparecen en el tablero, donde avanzar de una casilla a otra va a tener un costo de 1.\n",
        "\n",
        "\n",
        "\n",
        "\n",
        "\n",
        "\n"
      ],
      "metadata": {
        "id": "yvLNkCQUMrXL"
      }
    },
    {
      "cell_type": "markdown",
      "source": [
        "# Creación del arbol"
      ],
      "metadata": {
        "id": "AMzje-AWTFV_"
      }
    },
    {
      "cell_type": "code",
      "execution_count": 43,
      "metadata": {
        "id": "ppr6SVjyMjrn",
        "colab": {
          "base_uri": "https://localhost:8080/"
        },
        "outputId": "992a201f-860f-40a5-e05a-ebacf6a3991c"
      },
      "outputs": [
        {
          "output_type": "stream",
          "name": "stdout",
          "text": [
            "[<__main__.Nodo object at 0x7f50d4643100>, <__main__.Nodo object at 0x7f50d4643f10>, <__main__.Nodo object at 0x7f50d4643a00>, <__main__.Nodo object at 0x7f50d4643d30>, <__main__.Nodo object at 0x7f50d4729c70>]\n"
          ]
        }
      ],
      "source": [
        "class Nodo:\n",
        "    def __init__(self, valor, peso):\n",
        "        self.valor = valor\n",
        "        self.peso = peso\n",
        "        self.hijos = []\n",
        "\n",
        "    def agregar_hijo(self, hijo):\n",
        "        self.hijos.append(hijo)\n",
        "\n",
        "class Arbol:\n",
        "    def __init__(self, raiz=None):\n",
        "        self.raiz = raiz\n",
        "\n",
        "    def agregar_nodo(self, valor, peso, nodo_padre=None):\n",
        "        nodo_nuevo = Nodo(valor, peso)\n",
        "        if nodo_padre is None:\n",
        "            if self.raiz is None:\n",
        "                self.raiz = nodo_nuevo\n",
        "            else:\n",
        "                raise ValueError(\"El árbol ya tiene una raíz\")\n",
        "        else:\n",
        "            nodo_padre.agregar_hijo(nodo_nuevo)\n",
        "\n",
        "\n",
        "    def buscar_nodo(self, valor):\n",
        "        if self.raiz is None:\n",
        "            return None\n",
        "\n",
        "        cola = [self.raiz]\n",
        "\n",
        "        while cola:\n",
        "            nodo_actual = cola.pop(0)\n",
        "\n",
        "            if nodo_actual.valor == valor:\n",
        "                return nodo_actual\n",
        "\n",
        "            for hijo in nodo_actual.hijos:\n",
        "                cola.append(hijo)\n",
        "\n",
        "        return None\n",
        "\n",
        "    def visualizar(self):\n",
        "        if self.raiz is None:\n",
        "            print(\"El árbol está vacío\")\n",
        "        else:\n",
        "            self._visualizar_recursivo(self.raiz, 0)\n",
        "\n",
        "    def _visualizar_recursivo(self, nodo, nivel):\n",
        "        print(\"  \" * nivel, end=\"\")\n",
        "        print(\"- \", nodo.valor, \"(\", nodo.peso, \")\")\n",
        "\n",
        "        for hijo in nodo.hijos:\n",
        "            self._visualizar_recursivo(hijo, nivel + 1)\n",
        "\n",
        "    def profundidad(self,valor_buscado):\n",
        "        visitados = []\n",
        "\n",
        "        if self.raiz is None:\n",
        "            return visitados\n",
        "\n",
        "        def _profundidad_recursivo(nodo):\n",
        "            visitados.append(nodo.valor)\n",
        "            print(\"NV \" + nodo.valor + \" VB \" + valor_buscado)\n",
        "            if nodo.valor == valor_buscado:\n",
        "              print(\"entre\")\n",
        "              return \"PARE\"\n",
        "            else:\n",
        "              for hijo in nodo.hijos:\n",
        "                  _profundidad_recursivo(hijo)\n",
        "\n",
        "        _profundidad_recursivo(self.raiz)\n",
        "\n",
        "        return visitados\n",
        "\n",
        "    def pruebaProfundidad(self,valor, nodoActual = None, ruta = None):\n",
        "      if nodoActual is None:\n",
        "            nodoActual = self.raiz\n",
        "\n",
        "      if ruta is None:\n",
        "          ruta = []\n",
        "      \n",
        "      if nodoActual.valor == valor:\n",
        "          ruta.append(nodoActual)\n",
        "          return ruta\n",
        "\n",
        "      for hijo in nodoActual.hijos:\n",
        "          ruta_nueva = self.pruebaProfundidad(valor, hijo, ruta + [nodoActual])\n",
        "          if ruta_nueva:\n",
        "              return ruta_nueva\n",
        "              \n",
        "      return None\n",
        "\n",
        "arbol = Arbol()\n",
        "arbol.agregar_nodo('e9',0)\n",
        "arbol.agregar_nodo('a9',4,arbol.buscar_nodo('e9'))\n",
        "arbol.agregar_nodo('e7',2,arbol.buscar_nodo('e9'))\n",
        "arbol.agregar_nodo('g7',4,arbol.buscar_nodo('e9'))\n",
        "arbol.agregar_nodo('c5',8,arbol.buscar_nodo('e7'))\n",
        "arbol.agregar_nodo('f5',3,arbol.buscar_nodo('e7'))\n",
        "arbol.agregar_nodo('f3',2,arbol.buscar_nodo('f5'))\n",
        "arbol.agregar_nodo('i5',3,arbol.buscar_nodo('f5'))\n",
        "arbol.agregar_nodo('h1',4,arbol.buscar_nodo('f3'))\n",
        "arbol.agregar_nodo('c3',3,arbol.buscar_nodo('f3'))\n",
        "arbol.agregar_nodo('j1',6,arbol.buscar_nodo('f3'))\n",
        "arbol.agregar_nodo('i7',2,arbol.buscar_nodo('i5'))\n",
        "arbol.agregar_nodo('j5',1,arbol.buscar_nodo('i5'))\n",
        "arbol.agregar_nodo('b3',1,arbol.buscar_nodo('c3'))\n",
        "arbol.agregar_nodo('c1',2,arbol.buscar_nodo('c3'))\n",
        "arbol.agregar_nodo('j7',1,arbol.buscar_nodo('i7'))\n",
        "arbol.agregar_nodo('j9',3,arbol.buscar_nodo('i7'))\n",
        "arbol.agregar_nodo('d1',8,arbol.buscar_nodo('c1'))\n",
        "arbol.agregar_nodo('b1',1,arbol.buscar_nodo('c1'))\n",
        "\n",
        "#arbol.visualizar()\n",
        "print(arbol.pruebaProfundidad('h1'))"
      ]
    }
  ]
}