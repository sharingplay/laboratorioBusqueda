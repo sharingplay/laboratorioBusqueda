{
  "nbformat": 4,
  "nbformat_minor": 0,
  "metadata": {
    "colab": {
      "provenance": [],
      "include_colab_link": true
    },
    "kernelspec": {
      "name": "python3",
      "display_name": "Python 3"
    },
    "language_info": {
      "name": "python"
    }
  },
  "cells": [
    {
      "cell_type": "markdown",
      "metadata": {
        "id": "view-in-github",
        "colab_type": "text"
      },
      "source": [
        "<a href=\"https://colab.research.google.com/github/sharingplay/laboratorioBusqueda/blob/anchura/Lab_busqueda.ipynb\" target=\"_parent\"><img src=\"https://colab.research.google.com/assets/colab-badge.svg\" alt=\"Open In Colab\"/></a>"
      ]
    },
    {
      "cell_type": "markdown",
      "source": [
        "A. Formule la tarea como un problema de búsqueda, definiendo el espacio\n",
        "de estados, en el estado inicial, la prueba de objetivo, el conjunto de\n",
        "acciones posibles y el costo de la ruta.\n",
        "\n",
        "\n",
        "Se entiende el problema como la busqueda de una ruta que una el círculo en E9 con el triángulo que hay en H1. Para esto tenemos que el espacio de estados es el tablero del laberinto desde la coordenada A1 hasta J9, el estado inicial es donde empezamos la búsqueda, en este caso el E9 donde se encuentra el círculo. Finalmente tenemos que la prueba del objetivo es llegar a la casilla H1 y el conjunto de estados posibles son todos las casillas blancas que aparecen en el tablero, donde avanzar de una casilla a otra va a tener un costo de 1.\n",
        "\n",
        "\n",
        "\n",
        "\n",
        "\n",
        "\n"
      ],
      "metadata": {
        "id": "yvLNkCQUMrXL"
      }
    },
    {
      "cell_type": "markdown",
      "source": [
        "# Creacion del arbol"
      ],
      "metadata": {
        "id": "AMzje-AWTFV_"
      }
    },
    {
      "cell_type": "code",
      "execution_count": 20,
      "metadata": {
        "id": "ppr6SVjyMjrn"
      },
      "outputs": [],
      "source": [
        "class Nodo:\n",
        "    def __init__(self, valor, peso):\n",
        "        self.valor = valor\n",
        "        self.peso = peso\n",
        "        self.hijos = []\n",
        "\n",
        "    def agregar_hijo(self, hijo):\n",
        "        self.hijos.append(hijo)\n",
        "\n",
        "class Arbol:\n",
        "    def __init__(self, raiz=None):\n",
        "        self.raiz = raiz\n",
        "\n",
        "    def agregar_nodo(self, valor, peso, nodo_padre=None):\n",
        "        nodo_nuevo = Nodo(valor, peso)\n",
        "        if nodo_padre is None:\n",
        "            if self.raiz is None:\n",
        "                self.raiz = nodo_nuevo\n",
        "            else:\n",
        "                raise ValueError(\"El árbol ya tiene una raíz\")\n",
        "        else:\n",
        "            nodo_padre.agregar_hijo(nodo_nuevo)\n",
        "\n",
        "\n",
        "    def buscar_nodo(self, valor):\n",
        "        if self.raiz is None:\n",
        "            return None\n",
        "\n",
        "        cola = [self.raiz]\n",
        "\n",
        "        while cola:\n",
        "            nodo_actual = cola.pop(0)\n",
        "\n",
        "            if nodo_actual.valor == valor:\n",
        "                return nodo_actual\n",
        "\n",
        "            for hijo in nodo_actual.hijos:\n",
        "                cola.append(hijo)\n",
        "\n",
        "        return None\n",
        "\n",
        "arbol = Arbol()\n",
        "arbol.agregar_nodo('e9',0)\n",
        "arbol.agregar_nodo('a9',4,arbol.buscar_nodo('e9'))\n",
        "arbol.agregar_nodo('g7',4,arbol.buscar_nodo('e9'))\n",
        "arbol.agregar_nodo('e7',2,arbol.buscar_nodo('e9'))\n",
        "arbol.agregar_nodo('c5',8,arbol.buscar_nodo('e7'))"
      ]
    },
    {
      "cell_type": "code",
      "source": [
        "arbol = Arbol()\n",
        "arbol.agregar_nodo(1, 5)  # Agregamos el nodo raíz con peso 5\n",
        "arbol.agregar_nodo(2, 3, arbol.buscar_nodo(1))  # Agregamos el nodo 2 como hijo del nodo 1 con peso 3\n",
        "arbol.agregar_nodo(3, 8, arbol.buscar_nodo(1))  # Agregamos el nodo 3 como hijo del nodo 1 con peso 8\n",
        "arbol.agregar_nodo(4, 2, arbol.buscar_nodo(2))  # Agregamos el nodo 4 como hijo del nodo 2 con peso 2"
      ],
      "metadata": {
        "id": "d4JnTtLrYDbV"
      },
      "execution_count": null,
      "outputs": []
    }
  ]
}