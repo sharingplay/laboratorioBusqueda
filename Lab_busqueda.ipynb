{
  "nbformat": 4,
  "nbformat_minor": 0,
  "metadata": {
    "colab": {
      "provenance": [],
      "include_colab_link": true
    },
    "kernelspec": {
      "name": "python3",
      "display_name": "Python 3"
    },
    "language_info": {
      "name": "python"
    }
  },
  "cells": [
    {
      "cell_type": "markdown",
      "metadata": {
        "id": "view-in-github",
        "colab_type": "text"
      },
      "source": [
        "<a href=\"https://colab.research.google.com/github/sharingplay/laboratorioBusqueda/blob/anchura/Lab_busqueda.ipynb\" target=\"_parent\"><img src=\"https://colab.research.google.com/assets/colab-badge.svg\" alt=\"Open In Colab\"/></a>"
      ]
    },
    {
      "cell_type": "markdown",
      "source": [
        "A. Formule la tarea como un problema de búsqueda, definiendo el espacio\n",
        "de estados, en el estado inicial, la prueba de objetivo, el conjunto de\n",
        "acciones posibles y el costo de la ruta.\n",
        "\n",
        "\n",
        "Se entiende el problema como la busqueda de una ruta que una el círculo en E9 con el triángulo que hay en H1. Para esto tenemos que el espacio de estados es el tablero del laberinto desde la coordenada A1 hasta J9, el estado inicial es donde empezamos la búsqueda, en este caso el E9 donde se encuentra el círculo. Finalmente tenemos que la prueba del objetivo es llegar a la casilla H1 y el conjunto de estados posibles son todos las casillas blancas que aparecen en el tablero, donde avanzar de una casilla a otra va a tener un costo de 1.\n",
        "\n",
        "\n",
        "\n",
        "\n",
        "\n",
        "\n"
      ],
      "metadata": {
        "id": "yvLNkCQUMrXL"
      }
    },
    {
      "cell_type": "markdown",
      "source": [
        "# Creación del arbol"
      ],
      "metadata": {
        "id": "AMzje-AWTFV_"
      }
    },
    {
      "cell_type": "code",
      "execution_count": null,
      "metadata": {
        "id": "ppr6SVjyMjrn"
      },
      "outputs": [],
      "source": [
        "class Nodo:\n",
        "    def __init__(self, valor, peso):\n",
        "        self.valor = valor\n",
        "        self.peso = peso\n",
        "        self.hijos = []\n",
        "\n",
        "    def agregar_hijo(self, hijo):\n",
        "        self.hijos.append(hijo)\n",
        "\n",
        "class Arbol:\n",
        "    def __init__(self, raiz=None):\n",
        "        self.raiz = raiz\n",
        "\n",
        "    def agregar_nodo(self, valor, peso, nodo_padre=None):\n",
        "        nodo_nuevo = Nodo(valor, peso)\n",
        "        if nodo_padre is None:\n",
        "            if self.raiz is None:\n",
        "                self.raiz = nodo_nuevo\n",
        "            else:\n",
        "                raise ValueError(\"El árbol ya tiene una raíz\")\n",
        "        else:\n",
        "            nodo_padre.agregar_hijo(nodo_nuevo)\n",
        "\n",
        "\n",
        "    def buscar_nodo(self, valor):\n",
        "        if self.raiz is None:\n",
        "            return None\n",
        "\n",
        "        cola = [self.raiz]\n",
        "\n",
        "        while cola:\n",
        "            nodo_actual = cola.pop(0)\n",
        "\n",
        "            if nodo_actual.valor == valor:\n",
        "                return nodo_actual\n",
        "\n",
        "            for hijo in nodo_actual.hijos:\n",
        "                cola.append(hijo)\n",
        "\n",
        "        return None\n",
        "\n",
        "arbol = Arbol()\n",
        "arbol.agregar_nodo('e9',0)\n",
        "arbol.agregar_nodo('a9',4,arbol.buscar_nodo('e9'))\n",
        "arbol.agregar_nodo('e7',2,arbol.buscar_nodo('e9'))\n",
        "arbol.agregar_nodo('g7',4,arbol.buscar_nodo('e9'))\n",
        "arbol.agregar_nodo('c5',8,arbol.buscar_nodo('e7'))\n",
        "arbol.agregar_nodo('f5',3,arbol.buscar_nodo('e7'))\n",
        "arbol.agregar_nodo('f3',2,arbol.buscar_nodo('f5'))\n",
        "arbol.agregar_nodo('i5',3,arbol.buscar_nodo('f5'))\n",
        "arbol.agregar_nodo('h1',4,arbol.buscar_nodo('f3'))\n",
        "arbol.agregar_nodo('c3',3,arbol.buscar_nodo('f3'))\n",
        "arbol.agregar_nodo('j1',6,arbol.buscar_nodo('f3'))\n",
        "arbol.agregar_nodo('i7',2,arbol.buscar_nodo('i5'))\n",
        "arbol.agregar_nodo('j5',1,arbol.buscar_nodo('i5'))\n",
        "arbol.agregar_nodo('b3',1,arbol.buscar_nodo('c3'))\n",
        "arbol.agregar_nodo('c1',2,arbol.buscar_nodo('c3'))\n",
        "arbol.agregar_nodo('j7',1,arbol.buscar_nodo('i7'))\n",
        "arbol.agregar_nodo('j9',3,arbol.buscar_nodo('i7'))\n",
        "arbol.agregar_nodo('d1',8,arbol.buscar_nodo('e7'))\n",
        "arbol.agregar_nodo('b1',1,arbol.buscar_nodo('c1'))"
      ]
    }
  ]
}